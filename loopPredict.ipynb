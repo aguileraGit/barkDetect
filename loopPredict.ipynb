{
 "cells": [
  {
   "cell_type": "code",
   "execution_count": 5,
   "metadata": {},
   "outputs": [],
   "source": [
    "import sounddevice as sd\n",
    "import numpy as np\n",
    "import scipy.io.wavfile as wav\n",
    "import Queue\n",
    "from threading import Timer\n",
    "from threading import Thread"
   ]
  },
  {
   "cell_type": "code",
   "execution_count": null,
   "metadata": {},
   "outputs": [],
   "source": [
    "#https://pymotw.com/2/threading/"
   ]
  },
  {
   "cell_type": "code",
   "execution_count": 7,
   "metadata": {},
   "outputs": [],
   "source": [
    "#https://stackoverflow.com/questions/12435211/python-threading-timer-repeat-function-every-n-seconds\n",
    "#Repeated Timer\n",
    "class MyThread(Thread):\n",
    "    def __init__(self, event):\n",
    "        Thread.__init__(self)\n",
    "        self.stopped = event\n",
    "\n",
    "    def run(self):\n",
    "        while not self.stopped.wait(0.5):\n",
    "            print(\"my thread\")\n",
    "            \n",
    "            #Call a function\n",
    "            fastThread()"
   ]
  },
  {
   "cell_type": "code",
   "execution_count": null,
   "metadata": {},
   "outputs": [],
   "source": [
    "def getAudio():\n",
    "    myRecording1 = sd.rec(duration * fs, samplerate=fs, channels=1)\n",
    "    sd.wait()\n",
    "    \n",
    "    #Each sample is of type list. Convert from list to int\n",
    "    bClip = []\n",
    "    for i in range(len(myRecording1)):\n",
    "        bClip.append( myRecording1[i][0] )\n",
    "    \n",
    "    return bClip"
   ]
  },
  {
   "cell_type": "code",
   "execution_count": null,
   "metadata": {},
   "outputs": [],
   "source": [
    "def fastThread():\n",
    "    #Get clip\n",
    "    aClip = getAudio()\n",
    "    \n",
    "    #Push to queue\n",
    "    processQueue.put( aClip )\n",
    "    \n",
    "    #Maybe delay a split second - Done in Thread Class\n",
    "    \n",
    "    #Call thread again"
   ]
  },
  {
   "cell_type": "code",
   "execution_count": null,
   "metadata": {},
   "outputs": [],
   "source": [
    "def getFFT(_aClip):\n",
    "    \n",
    "    #Get data\n",
    "    #data = aClips[i]\n",
    "    data = _aClip\n",
    "\n",
    "    #Smooth the FFT by windowing data\n",
    "    data = data * np.hanning(len(data))\n",
    "\n",
    "    #Preform FFT and take only real data\n",
    "    fft = abs(np.fft.fft(data).real)\n",
    "\n",
    "    #Keep only first half\n",
    "    fft = fft[:int(len(fft))/2]\n",
    "\n",
    "    #Create Frequency list\n",
    "    freq = np.fft.fftfreq( (fs * duration) ,1.0/fs)\n",
    "\n",
    "    #Keep only first half\n",
    "    freq = freq[:int(len(freq))/2] \n",
    "\n",
    "    #At this point, the length of the fft/freq is cut in reduced from 2048 to 1024. But the cut off frequency is actually 512.\n",
    "    #The freq axis shows why. Values are now 0, 0.5, 1, 1.5Hz...\n",
    "    #Therefore drop every other value\n",
    "    fft = fft[0::2]\n",
    "    freq = freq[0::2]\n",
    "\n",
    "    #Save for later\n",
    "    #ffts.append( fft )\n",
    "    \n",
    "    return fft"
   ]
  },
  {
   "cell_type": "code",
   "execution_count": null,
   "metadata": {},
   "outputs": [],
   "source": [
    "def predictFFT:\n",
    "    #train(_nips, _nhid 14, _nops, _rate 0.5, _anneal 0.99, _data, _iter 32\n",
    "    train(512, 14, 2, 0.5, 0.99, 'woofsAndMeows.data', 64)\n"
   ]
  },
  {
   "cell_type": "code",
   "execution_count": null,
   "metadata": {},
   "outputs": [],
   "source": [
    "#def formatDataForPrediction\n"
   ]
  },
  {
   "cell_type": "code",
   "execution_count": null,
   "metadata": {},
   "outputs": [],
   "source": [
    "#Train"
   ]
  },
  {
   "cell_type": "code",
   "execution_count": null,
   "metadata": {},
   "outputs": [],
   "source": [
    "#Create queues\n",
    "processQueue = Queue.Queue()\n",
    "\n",
    "#Create events\n",
    "stopFlag = Event()\n",
    "\n",
    "#Create threads\n",
    "thread = MyThread(stopFlag)\n",
    "thread.start()\n",
    "\n",
    "# this will stop the timer\n",
    "#stopFlag.set()"
   ]
  },
  {
   "cell_type": "code",
   "execution_count": null,
   "metadata": {},
   "outputs": [],
   "source": [
    "#While loop\n",
    "while True:\n",
    "    \n",
    "    #Wait for something in Queue\n",
    "    if not processQueue.empty(): \n",
    "        aClip = processQueue.get( aClip )\n",
    "\n",
    "    #Get FFT\n",
    "    clipFFT = getFFT( aClip )\n",
    "\n",
    "    #formatDataForPrediction\n",
    "    \n",
    "    #Predict\n",
    "    var0, var1 = predictFFT( clipFFT )\n",
    "\n",
    "    #Found woof\n",
    "    if var0 > 0.7 and var1 < 0.4:\n",
    "        print 'Found Woof'\n",
    "    #Found meow   \n",
    "    elif var1 > 0.4 and var0 > 0.7:\n",
    "        print 'Meow'\n",
    "        "
   ]
  }
 ],
 "metadata": {
  "kernelspec": {
   "display_name": "Python 2",
   "language": "python",
   "name": "python2"
  },
  "language_info": {
   "codemirror_mode": {
    "name": "ipython",
    "version": 2
   },
   "file_extension": ".py",
   "mimetype": "text/x-python",
   "name": "python",
   "nbconvert_exporter": "python",
   "pygments_lexer": "ipython2",
   "version": "2.7.14"
  }
 },
 "nbformat": 4,
 "nbformat_minor": 2
}
