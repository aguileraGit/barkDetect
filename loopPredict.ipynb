{
 "cells": [
  {
   "cell_type": "code",
   "execution_count": 1,
   "metadata": {},
   "outputs": [],
   "source": [
    "# This needs to be rewritten. Currently clips are taken and analyzed in 2 second chunks. \n",
    "# Audio needs to come in as a stream. Every X number of milliseconds OR after the FFT/Prediction is completed, the next\n",
    "# 2048 samples need to be taken from the stream and analyzed. \n",
    "\n",
    "# https://forum.pjrc.com/threads/24492-Using-the-PDB-on-Teensy-3#post_message_37659\n",
    "# https://forum.pjrc.com/threads/24611-Problem-with-DMA-interrupt\n",
    "# https://forum.pjrc.com/threads/18237-teensy-3-0-memory-to-memory-DMA-help\n",
    "\n",
    "# https://python-sounddevice.readthedocs.io/en/0.3.11/examples.html"
   ]
  },
  {
   "cell_type": "code",
   "execution_count": 1,
   "metadata": {},
   "outputs": [],
   "source": [
    "import tinn\n",
    "import random\n",
    "import sounddevice as sd\n",
    "import numpy as np\n",
    "import scipy.io.wavfile as wav\n",
    "import Queue\n",
    "from threading import Timer\n",
    "from threading import Thread\n",
    "from threading import Event"
   ]
  },
  {
   "cell_type": "code",
   "execution_count": 3,
   "metadata": {},
   "outputs": [],
   "source": [
    "#https://pymotw.com/2/threading/"
   ]
  },
  {
   "cell_type": "code",
   "execution_count": 2,
   "metadata": {},
   "outputs": [],
   "source": [
    "class Data:\n",
    "    def __init__(self, path, nips, nops):\n",
    "        self.read_data(path, nips, nops)\n",
    "\n",
    "    def __repr__(self):\n",
    "        return str( str(self) +'rows with'+ str(len(self.in_[0])) +'inputs and'+ str(len(self.tg[0])) +'outputs' )\n",
    "        #return f'{len(self)} rows with {len(self.in_[0])} inputs and {len(self.tg[0])} outputs.'\n",
    "\n",
    "    def read_data(self, path, nips, nops):\n",
    "        self.in_, self.tg = [], []\n",
    "        with open(path) as data_file:\n",
    "            for line in data_file:\n",
    "                row = list(map(float, line.split()))\n",
    "                self.in_.append(row[:nips])\n",
    "                self.tg.append(row[nips:])\n",
    "\n",
    "    def shuffle(self):\n",
    "        indexes = list(range(len(self.in_)))\n",
    "        random.shuffle(indexes)\n",
    "        self.in_ = [self.in_[i] for i in indexes]\n",
    "        self.tg = [self.tg[i] for i in indexes]\n",
    "\n",
    "    def __len__(self):\n",
    "        return len(self.in_)\n",
    "    \n",
    "    def dLen(self):\n",
    "        return len(self.in_)"
   ]
  },
  {
   "cell_type": "code",
   "execution_count": 3,
   "metadata": {},
   "outputs": [],
   "source": [
    "class DataOnTheFly:\n",
    "    def __init__(self, arr, nips, nops):\n",
    "        self.read_array(arr, nips, nops)\n",
    "        \n",
    "    def read_array(self, arr, nips, nops):\n",
    "        self.in_, self.tg = [], []\n",
    "\n",
    "        self.in_.append(arr[:nips])\n",
    "        self.tg.append(arr[nips:])\n",
    "        "
   ]
  },
  {
   "cell_type": "code",
   "execution_count": 4,
   "metadata": {},
   "outputs": [],
   "source": [
    "def train(_nips, _nhid, _nops, _rate, _anneal, _data, _iter):\n",
    "    nips = _nips\n",
    "    nhid = _nhid\n",
    "    nops = _nops\n",
    "    rate = _rate\n",
    "    anneal = _anneal\n",
    "    \n",
    "    data = Data(_data, nips, nops)\n",
    "    \n",
    "    t = tinn.Tinn(nips, nhid, nops)\n",
    "    \n",
    "    for i in range(_iter):\n",
    "        data.shuffle()\n",
    "        error = 0\n",
    "        for in_, tg in zip(data.in_, data.tg):\n",
    "            error += tinn.xttrain(t, in_, tg, rate)\n",
    "        print 'Error: ' + str(error/len(data)) + ' learning rate: ' + str(rate) + ' Iteration: ' + str(i)\n",
    "        rate *= anneal\n",
    "\n",
    "    t.save('savedApp.tinn')"
   ]
  },
  {
   "cell_type": "code",
   "execution_count": 5,
   "metadata": {},
   "outputs": [],
   "source": [
    "def predict(arr, _nips, _nops):\n",
    "\n",
    "    data = DataOnTheFly(arr, _nips, _nops)\n",
    "    \n",
    "    loaded = tinn.xtload('savedApp.tinn')\n",
    "\n",
    "    in_ = data.in_[0]\n",
    "    tg = data.tg[0]\n",
    "        \n",
    "    pd = tinn.xtpredict(loaded, in_)\n",
    "        \n",
    "    #print(' '.join(map(str, tg)))\n",
    "    #print(' '.join(map(str, pd)))\n",
    "    \n",
    "    return pd"
   ]
  },
  {
   "cell_type": "code",
   "execution_count": 8,
   "metadata": {},
   "outputs": [],
   "source": [
    "#https://stackoverflow.com/questions/12435211/python-threading-timer-repeat-function-every-n-seconds\n",
    "#Repeated Timer\n",
    "class MyThread(Thread):\n",
    "    def __init__(self, event):\n",
    "        Thread.__init__(self)\n",
    "        self.stopped = event\n",
    "\n",
    "    def run(self):\n",
    "        #while not self.stopped.wait(0.1):\n",
    "        while True:\n",
    "            #Call a function\n",
    "            fastThread()"
   ]
  },
  {
   "cell_type": "code",
   "execution_count": 9,
   "metadata": {},
   "outputs": [],
   "source": [
    "def getAudio():\n",
    "    fs = 1024\n",
    "    duration = 2\n",
    "    \n",
    "    myRecording1 = sd.rec(duration * fs, samplerate=fs, channels=1)\n",
    "    sd.wait()\n",
    "    \n",
    "    #Each sample is of type list. Convert from list to int\n",
    "    bClip = []\n",
    "    for i in range(len(myRecording1)):\n",
    "        bClip.append( myRecording1[i][0] )\n",
    "    \n",
    "    return bClip"
   ]
  },
  {
   "cell_type": "code",
   "execution_count": 10,
   "metadata": {},
   "outputs": [],
   "source": [
    "def fastThread():\n",
    "    #Get clip\n",
    "    aClip = getAudio()\n",
    "    \n",
    "    #Push to queue\n",
    "    processQueue.put( aClip )\n",
    "    \n",
    "    #Maybe delay a split second - Done in Thread Class"
   ]
  },
  {
   "cell_type": "code",
   "execution_count": 6,
   "metadata": {},
   "outputs": [],
   "source": [
    "def getFFT(_aClip):\n",
    "    \n",
    "    fs = 1024\n",
    "    duration = 2\n",
    "    \n",
    "    #Get data\n",
    "    #data = aClips[i]\n",
    "    data = _aClip\n",
    "\n",
    "    #Smooth the FFT by windowing data\n",
    "    data = data * np.hanning(len(data))\n",
    "\n",
    "    #Preform FFT and take only real data\n",
    "    fft = abs(np.fft.fft(data).real)\n",
    "\n",
    "    #Keep only first half\n",
    "    fft = fft[:int(len(fft))/2]\n",
    "\n",
    "    #Create Frequency list\n",
    "    freq = np.fft.fftfreq( (fs * duration) ,1.0/fs)\n",
    "\n",
    "    #Keep only first half\n",
    "    freq = freq[:int(len(freq))/2] \n",
    "\n",
    "    #At this point, the length of the fft/freq is cut in reduced from 2048 to 1024. But the cut off frequency is actually 512.\n",
    "    #The freq axis shows why. Values are now 0, 0.5, 1, 1.5Hz...\n",
    "    #Therefore drop every other value\n",
    "    fft = fft[0::2]\n",
    "    freq = freq[0::2]\n",
    "\n",
    "    #Save for later\n",
    "    #ffts.append( fft )\n",
    "    \n",
    "    return fft"
   ]
  },
  {
   "cell_type": "code",
   "execution_count": 7,
   "metadata": {},
   "outputs": [],
   "source": [
    "def formatDataForPrediction(arr):\n",
    "    #Convert to list\n",
    "    arr = arr.tolist()\n",
    "    \n",
    "    #Append 1 0 to list - woof\n",
    "    arr = arr + [1.0, 0.0]\n",
    "    \n",
    "    return arr"
   ]
  },
  {
   "cell_type": "code",
   "execution_count": 8,
   "metadata": {},
   "outputs": [
    {
     "name": "stdout",
     "output_type": "stream",
     "text": [
      "Error: 0.275107626353 learning rate: 0.5 Iteration: 0\n",
      "Error: 0.191554700351 learning rate: 0.495 Iteration: 1\n",
      "Error: 0.135612863625 learning rate: 0.49005 Iteration: 2\n",
      "Error: 0.0890952167087 learning rate: 0.4851495 Iteration: 3\n",
      "Error: 0.0541806731626 learning rate: 0.480298005 Iteration: 4\n",
      "Error: 0.0380856989326 learning rate: 0.47549502495 Iteration: 5\n",
      "Error: 0.0268200078773 learning rate: 0.4707400747 Iteration: 6\n",
      "Error: 0.0197721742512 learning rate: 0.466032673953 Iteration: 7\n",
      "Error: 0.016292473158 learning rate: 0.461372347214 Iteration: 8\n",
      "Error: 0.0131018430986 learning rate: 0.456758623742 Iteration: 9\n",
      "Error: 0.0109796204628 learning rate: 0.452191037504 Iteration: 10\n",
      "Error: 0.00944751636389 learning rate: 0.447669127129 Iteration: 11\n",
      "Error: 0.00815375638722 learning rate: 0.443192435858 Iteration: 12\n",
      "Error: 0.00725580452073 learning rate: 0.438760511499 Iteration: 13\n",
      "Error: 0.00650047624576 learning rate: 0.434372906384 Iteration: 14\n",
      "Error: 0.00589379955764 learning rate: 0.430029177321 Iteration: 15\n",
      "Error: 0.00536328647849 learning rate: 0.425728885547 Iteration: 16\n",
      "Error: 0.00491303002483 learning rate: 0.421471596692 Iteration: 17\n",
      "Error: 0.00454396637574 learning rate: 0.417256880725 Iteration: 18\n",
      "Error: 0.00421869225939 learning rate: 0.413084311918 Iteration: 19\n",
      "Error: 0.00393835979062 learning rate: 0.408953468799 Iteration: 20\n",
      "Error: 0.00368647807467 learning rate: 0.404863934111 Iteration: 21\n",
      "Error: 0.00346248166701 learning rate: 0.40081529477 Iteration: 22\n",
      "Error: 0.00327356335527 learning rate: 0.396807141822 Iteration: 23\n",
      "Error: 0.00309892914411 learning rate: 0.392839070404 Iteration: 24\n",
      "Error: 0.00294287184854 learning rate: 0.3889106797 Iteration: 25\n",
      "Error: 0.00280202919386 learning rate: 0.385021572903 Iteration: 26\n",
      "Error: 0.0026735029451 learning rate: 0.381171357174 Iteration: 27\n",
      "Error: 0.00255671071615 learning rate: 0.377359643602 Iteration: 28\n",
      "Error: 0.00244994484281 learning rate: 0.373586047166 Iteration: 29\n",
      "Error: 0.0023506874705 learning rate: 0.369850186694 Iteration: 30\n",
      "Error: 0.00226144117422 learning rate: 0.366151684827 Iteration: 31\n",
      "Error: 0.00217791126646 learning rate: 0.362490167979 Iteration: 32\n",
      "Error: 0.00210175199929 learning rate: 0.358865266299 Iteration: 33\n",
      "Error: 0.00203020017392 learning rate: 0.355276613636 Iteration: 34\n",
      "Error: 0.00196329488705 learning rate: 0.3517238475 Iteration: 35\n",
      "Error: 0.00190062413696 learning rate: 0.348206609025 Iteration: 36\n",
      "Error: 0.00184364486887 learning rate: 0.344724542935 Iteration: 37\n",
      "Error: 0.00178956412899 learning rate: 0.341277297505 Iteration: 38\n",
      "Error: 0.00173875932821 learning rate: 0.33786452453 Iteration: 39\n",
      "Error: 0.00169081133908 learning rate: 0.334485879285 Iteration: 40\n",
      "Error: 0.00164606435977 learning rate: 0.331141020492 Iteration: 41\n",
      "Error: 0.00160374162396 learning rate: 0.327829610287 Iteration: 42\n",
      "Error: 0.00156287711845 learning rate: 0.324551314184 Iteration: 43\n",
      "Error: 0.00152534742512 learning rate: 0.321305801042 Iteration: 44\n",
      "Error: 0.00148941851076 learning rate: 0.318092743032 Iteration: 45\n",
      "Error: 0.00145573801582 learning rate: 0.314911815602 Iteration: 46\n",
      "Error: 0.00142386889691 learning rate: 0.311762697446 Iteration: 47\n",
      "Error: 0.00139306153642 learning rate: 0.308645070471 Iteration: 48\n",
      "Error: 0.00136400433524 learning rate: 0.305558619766 Iteration: 49\n",
      "Error: 0.00133631294898 learning rate: 0.302503033569 Iteration: 50\n",
      "Error: 0.00130982384907 learning rate: 0.299478003233 Iteration: 51\n",
      "Error: 0.00128439912102 learning rate: 0.296483223201 Iteration: 52\n",
      "Error: 0.00126039317323 learning rate: 0.293518390969 Iteration: 53\n",
      "Error: 0.0012373675409 learning rate: 0.290583207059 Iteration: 54\n",
      "Error: 0.00121520466244 learning rate: 0.287677374988 Iteration: 55\n",
      "Error: 0.0011941009777 learning rate: 0.284800601239 Iteration: 56\n",
      "Error: 0.00117379739873 learning rate: 0.281952595226 Iteration: 57\n",
      "Error: 0.00115433327278 learning rate: 0.279133069274 Iteration: 58\n",
      "Error: 0.0011356445133 learning rate: 0.276341738581 Iteration: 59\n",
      "Error: 0.0011177373106 learning rate: 0.273578321195 Iteration: 60\n",
      "Error: 0.001100432972 learning rate: 0.270842537983 Iteration: 61\n",
      "Error: 0.00108382768625 learning rate: 0.268134112604 Iteration: 62\n",
      "Error: 0.00106787817894 learning rate: 0.265452771478 Iteration: 63\n"
     ]
    }
   ],
   "source": [
    "#Train NN\n",
    "train(512, 32, 2, 0.5, 0.99, 'woofsAndMeows.data', 64)"
   ]
  },
  {
   "cell_type": "code",
   "execution_count": 14,
   "metadata": {},
   "outputs": [
    {
     "data": {
      "text/plain": [
       "'\\n#Create queues\\nprocessQueue = Queue.Queue()\\n\\n#Create events\\nstopFlag = Event()\\n\\n#Create threads\\nthread = MyThread(stopFlag)\\nthread.start()\\n\\n# this will stop the timer\\n#stopFlag.set()\\n'"
      ]
     },
     "execution_count": 14,
     "metadata": {},
     "output_type": "execute_result"
    }
   ],
   "source": [
    "'''\n",
    "#Create queues\n",
    "processQueue = Queue.Queue()\n",
    "\n",
    "#Create events\n",
    "stopFlag = Event()\n",
    "\n",
    "#Create threads\n",
    "thread = MyThread(stopFlag)\n",
    "thread.start()\n",
    "\n",
    "# this will stop the timer\n",
    "#stopFlag.set()\n",
    "'''"
   ]
  },
  {
   "cell_type": "code",
   "execution_count": 12,
   "metadata": {},
   "outputs": [],
   "source": [
    "#Setup\n",
    "fs = 1024\n",
    "stream = sd.InputStream(samplerate=fs, channels=1)\n",
    "stream.start()"
   ]
  },
  {
   "cell_type": "code",
   "execution_count": null,
   "metadata": {},
   "outputs": [
    {
     "name": "stdout",
     "output_type": "stream",
     "text": [
      "Found Woof\n",
      "Found Woof\n"
     ]
    }
   ],
   "source": [
    "#While loop\n",
    "while True:\n",
    "    \n",
    "    #Wait for something in Queue\n",
    "    #if not processQueue.empty(): \n",
    "    if True:\n",
    "        \n",
    "        #aClip = processQueue.get()\n",
    "\n",
    "        #Get FFT\n",
    "        #clipFFT = getFFT( aClip )\n",
    "\n",
    "        aClip = stream.read(2048)[0].tolist()\n",
    "        \n",
    "        #Each sample is of type list. Convert from list to int\n",
    "        bClip = []\n",
    "        for i in range(len(aClip)):\n",
    "            bClip.append( aClip[i][0] )\n",
    "        \n",
    "        \n",
    "        #print type(bClip), len(bClip), bClip\n",
    "        \n",
    "        clipFFT = getFFT( bClip )\n",
    "\n",
    "        #Format for NN\n",
    "        formattedClip = formatDataForPrediction(clipFFT)\n",
    "\n",
    "        ##Predict\n",
    "        predictedValues = predict( formattedClip, 512, 2 )\n",
    "        #print predictedValues[0], predictedValues[1]\n",
    "\n",
    "        #Found woof\n",
    "        if predictedValues[0] > 0.8 and predictedValues[1] < 0.1:\n",
    "            print 'Found Woof'\n",
    "        #Found meow   \n",
    "        elif predictedValues[0] > 0.4 and predictedValues[1] > 0.7:\n",
    "            print 'Meow'\n",
    "\n",
    "print 'Done'"
   ]
  },
  {
   "cell_type": "code",
   "execution_count": 11,
   "metadata": {},
   "outputs": [],
   "source": [
    "stream.stop()"
   ]
  }
 ],
 "metadata": {
  "kernelspec": {
   "display_name": "Python 2",
   "language": "python",
   "name": "python2"
  },
  "language_info": {
   "codemirror_mode": {
    "name": "ipython",
    "version": 2
   },
   "file_extension": ".py",
   "mimetype": "text/x-python",
   "name": "python",
   "nbconvert_exporter": "python",
   "pygments_lexer": "ipython2",
   "version": "2.7.14"
  }
 },
 "nbformat": 4,
 "nbformat_minor": 2
}
