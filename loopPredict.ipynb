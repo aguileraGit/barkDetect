{
 "cells": [
  {
   "cell_type": "code",
   "execution_count": null,
   "metadata": {},
   "outputs": [],
   "source": [
    "# This needs to be rewritten. Currently clips are taken and analyzed in 2 second chunks. \n",
    "# Audio needs to come in as a stream. Every X number of milliseconds OR after the FFT/Prediction is completed, the next\n",
    "# 2048 samples need to be taken from the stream and analyzed. \n",
    "\n",
    "# https://forum.pjrc.com/threads/24492-Using-the-PDB-on-Teensy-3#post_message_37659\n",
    "# https://forum.pjrc.com/threads/24611-Problem-with-DMA-interrupt\n",
    "# https://forum.pjrc.com/threads/18237-teensy-3-0-memory-to-memory-DMA-help\n",
    "\n",
    "# https://python-sounddevice.readthedocs.io/en/0.3.11/examples.html"
   ]
  },
  {
   "cell_type": "code",
   "execution_count": null,
   "metadata": {},
   "outputs": [],
   "source": [
    "import tinn\n",
    "import random\n",
    "import sounddevice as sd\n",
    "import numpy as np\n",
    "import scipy.io.wavfile as wav\n",
    "import Queue\n",
    "from collections import deque\n",
    "from threading import Timer\n",
    "from threading import Thread\n",
    "from threading import Event\n",
    "import time"
   ]
  },
  {
   "cell_type": "code",
   "execution_count": null,
   "metadata": {},
   "outputs": [],
   "source": [
    "#https://pymotw.com/2/threading/"
   ]
  },
  {
   "cell_type": "code",
   "execution_count": null,
   "metadata": {},
   "outputs": [],
   "source": [
    "class Data:\n",
    "    def __init__(self, path, nips, nops):\n",
    "        self.read_data(path, nips, nops)\n",
    "\n",
    "    def __repr__(self):\n",
    "        return str( str(self) +'rows with'+ str(len(self.in_[0])) +'inputs and'+ str(len(self.tg[0])) +'outputs' )\n",
    "        #return f'{len(self)} rows with {len(self.in_[0])} inputs and {len(self.tg[0])} outputs.'\n",
    "\n",
    "    def read_data(self, path, nips, nops):\n",
    "        self.in_, self.tg = [], []\n",
    "        with open(path) as data_file:\n",
    "            for line in data_file:\n",
    "                row = list(map(float, line.split()))\n",
    "                self.in_.append(row[:nips])\n",
    "                self.tg.append(row[nips:])\n",
    "\n",
    "    def shuffle(self):\n",
    "        indexes = list(range(len(self.in_)))\n",
    "        random.shuffle(indexes)\n",
    "        self.in_ = [self.in_[i] for i in indexes]\n",
    "        self.tg = [self.tg[i] for i in indexes]\n",
    "\n",
    "    def __len__(self):\n",
    "        return len(self.in_)\n",
    "    \n",
    "    def dLen(self):\n",
    "        return len(self.in_)"
   ]
  },
  {
   "cell_type": "code",
   "execution_count": null,
   "metadata": {},
   "outputs": [],
   "source": [
    "class DataOnTheFly:\n",
    "    def __init__(self, arr, nips, nops):\n",
    "        self.read_array(arr, nips, nops)\n",
    "        \n",
    "    def read_array(self, arr, nips, nops):\n",
    "        self.in_, self.tg = [], []\n",
    "\n",
    "        self.in_.append(arr[:nips])\n",
    "        self.tg.append(arr[nips:])\n",
    "        "
   ]
  },
  {
   "cell_type": "code",
   "execution_count": null,
   "metadata": {},
   "outputs": [],
   "source": [
    "def train(_nips, _nhid, _nops, _rate, _anneal, _data, _iter):\n",
    "    nips = _nips\n",
    "    nhid = _nhid\n",
    "    nops = _nops\n",
    "    rate = _rate\n",
    "    anneal = _anneal\n",
    "    \n",
    "    data = Data(_data, nips, nops)\n",
    "    \n",
    "    t = tinn.Tinn(nips, nhid, nops)\n",
    "    \n",
    "    for i in range(_iter):\n",
    "        data.shuffle()\n",
    "        error = 0\n",
    "        for in_, tg in zip(data.in_, data.tg):\n",
    "            error += tinn.xttrain(t, in_, tg, rate)\n",
    "        print 'Error: ' + str(error/len(data)) + ' learning rate: ' + str(rate) + ' Iteration: ' + str(i)\n",
    "        rate *= anneal\n",
    "\n",
    "    t.save('savedApp.tinn')"
   ]
  },
  {
   "cell_type": "code",
   "execution_count": null,
   "metadata": {},
   "outputs": [],
   "source": [
    "def predict(arr, _nips, _nops):\n",
    "\n",
    "    data = DataOnTheFly(arr, _nips, _nops)\n",
    "    \n",
    "    loaded = tinn.xtload('savedApp.tinn')\n",
    "\n",
    "    in_ = data.in_[0]\n",
    "    tg = data.tg[0]\n",
    "        \n",
    "    pd = tinn.xtpredict(loaded, in_)\n",
    "        \n",
    "    #print(' '.join(map(str, tg)))\n",
    "    #print(' '.join(map(str, pd)))\n",
    "    \n",
    "    return pd"
   ]
  },
  {
   "cell_type": "code",
   "execution_count": null,
   "metadata": {},
   "outputs": [],
   "source": [
    "#https://stackoverflow.com/questions/12435211/python-threading-timer-repeat-function-every-n-seconds\n",
    "#Repeated Timer\n",
    "class MyThread(Thread):\n",
    "    def __init__(self, event):\n",
    "        Thread.__init__(self)\n",
    "        self.stopped = event\n",
    "\n",
    "    def run(self):\n",
    "        while not self.stopped.wait(0.001):\n",
    "            #Call a function\n",
    "            addToAudioBuffer()"
   ]
  },
  {
   "cell_type": "code",
   "execution_count": null,
   "metadata": {},
   "outputs": [],
   "source": [
    "def addToAudioBuffer():\n",
    "\n",
    "    #if transferBuff isn't empty\n",
    "    if len(transferBuff) > 1:\n",
    "\n",
    "        #Get transferBuff - Channel 0\n",
    "        aClip = list(transferBuff)[0]\n",
    "\n",
    "        #Clear it\n",
    "        transferBuff.clear()\n",
    "\n",
    "        #Unpack data and push to audioBuffer\n",
    "        for i in range(len(aClip)):\n",
    "            audioBuffer.append(aClip[i][0])\n",
    "\n",
    "\n",
    "def callback(indata, frames, time, status):\n",
    "    #print 'callback', frames, len(indata), type(indata), indata\n",
    "    if status:\n",
    "        print(status)\n",
    "        \n",
    "    #Add indata to queue\n",
    "    transferBuff.append(indata)\n"
   ]
  },
  {
   "cell_type": "code",
   "execution_count": null,
   "metadata": {},
   "outputs": [],
   "source": [
    "def getFFT(_aClip):\n",
    "    \n",
    "    fs = 1024\n",
    "    duration = 2\n",
    "    \n",
    "    #Get data\n",
    "    #data = aClips[i]\n",
    "    data = _aClip\n",
    "\n",
    "    #Smooth the FFT by windowing data\n",
    "    data = data * np.hanning(len(data))\n",
    "\n",
    "    #Preform FFT and take only real data\n",
    "    fft = abs(np.fft.fft(data).real)\n",
    "\n",
    "    #Keep only first half\n",
    "    fft = fft[:int(len(fft))/2]\n",
    "\n",
    "    #Create Frequency list\n",
    "    freq = np.fft.fftfreq( (fs * duration) ,1.0/fs)\n",
    "\n",
    "    #Keep only first half\n",
    "    freq = freq[:int(len(freq))/2] \n",
    "\n",
    "    #At this point, the length of the fft/freq is cut in reduced from 2048 to 1024. But the cut off frequency is actually 512.\n",
    "    #The freq axis shows why. Values are now 0, 0.5, 1, 1.5Hz...\n",
    "    #Therefore drop every other value\n",
    "    fft = fft[0::2]\n",
    "    freq = freq[0::2]\n",
    "\n",
    "    #Save for later\n",
    "    #ffts.append( fft )\n",
    "    \n",
    "    return fft"
   ]
  },
  {
   "cell_type": "code",
   "execution_count": null,
   "metadata": {},
   "outputs": [],
   "source": [
    "def formatDataForPrediction(arr):\n",
    "    #Convert to list\n",
    "    arr = arr.tolist()\n",
    "    \n",
    "    #Append 1 0 to list - woof\n",
    "    arr = arr + [1.0, 0.0]\n",
    "    \n",
    "    return arr"
   ]
  },
  {
   "cell_type": "code",
   "execution_count": null,
   "metadata": {},
   "outputs": [],
   "source": [
    "#Train NN\n",
    "train(512, 32, 2, 0.5, 0.99, 'woofsAndMeows.data', 64)"
   ]
  },
  {
   "cell_type": "code",
   "execution_count": null,
   "metadata": {},
   "outputs": [],
   "source": [
    "#Audio Buffer \n",
    "audioBuffer = deque( maxlen=2048 )\n",
    "\n",
    "#Buffer used to push data from callback to audioBuffer\n",
    "transferBuff = deque()\n",
    "\n",
    "#Create events\n",
    "stopFlag = Event()\n",
    "\n",
    "#Create threads\n",
    "thread = MyThread(stopFlag)\n",
    "thread.start()\n",
    "\n",
    "#Define Run time in seconds\n",
    "duration = 1000"
   ]
  },
  {
   "cell_type": "code",
   "execution_count": null,
   "metadata": {},
   "outputs": [],
   "source": [
    "with sd.InputStream(channels=1, callback=callback, samplerate=1024):\n",
    "    #sd.sleep(int(duration * 1000))\n",
    "    time.sleep(3)\n",
    "    \n",
    "    count = 0\n",
    "    while(count < duration):\n",
    "        \n",
    "        #print count, len(audioBuffer), type(audioBuffer), audioBuffer[0]\n",
    "        count = count + 1\n",
    "        #time.sleep(0.004)\n",
    "        \n",
    "        clipFFT = getFFT( list(audioBuffer) )\n",
    "\n",
    "        #Format for NN\n",
    "        formattedClip = formatDataForPrediction(clipFFT)\n",
    "\n",
    "        ##Predict\n",
    "        predictedValues = predict( formattedClip, 512, 2 )\n",
    "        print predictedValues[0], predictedValues[1]\n",
    "\n",
    "        #Found woof\n",
    "        if predictedValues[0] >= 0.92 and predictedValues[1] <= 0.05:\n",
    "            print 'Found Woof'\n",
    "            print predictedValues\n",
    "        #Found meow   \n",
    "        elif predictedValues[0] > 0.4 and predictedValues[1] > 0.7:\n",
    "            print 'Meow'\n",
    "\n",
    "print 'Done'\n"
   ]
  },
  {
   "cell_type": "code",
   "execution_count": null,
   "metadata": {},
   "outputs": [],
   "source": [
    "sd.stop()"
   ]
  }
 ],
 "metadata": {
  "kernelspec": {
   "display_name": "Python 2",
   "language": "python",
   "name": "python2"
  },
  "language_info": {
   "codemirror_mode": {
    "name": "ipython",
    "version": 2
   },
   "file_extension": ".py",
   "mimetype": "text/x-python",
   "name": "python",
   "nbconvert_exporter": "python",
   "pygments_lexer": "ipython2",
   "version": "2.7.12"
  }
 },
 "nbformat": 4,
 "nbformat_minor": 2
}
