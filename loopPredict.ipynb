{
 "cells": [
  {
   "cell_type": "code",
   "execution_count": null,
   "metadata": {},
   "outputs": [],
   "source": [
    "import sounddevice as sd\n",
    "import numpy as np\n",
    "import scipy.io.wavfile as wav\n",
    "import Queue\n",
    "from threading import Timer\n",
    "from threading import Thread\n",
    "from threading import Event"
   ]
  },
  {
   "cell_type": "code",
   "execution_count": null,
   "metadata": {},
   "outputs": [],
   "source": [
    "#https://pymotw.com/2/threading/"
   ]
  },
  {
   "cell_type": "code",
   "execution_count": null,
   "metadata": {},
   "outputs": [],
   "source": [
    "class Data:\n",
    "    def __init__(self, path, nips, nops):\n",
    "        self.read_data(path, nips, nops)\n",
    "\n",
    "    def __repr__(self):\n",
    "        return str( str(self) +'rows with'+ str(len(self.in_[0])) +'inputs and'+ str(len(self.tg[0])) +'outputs' )\n",
    "        #return f'{len(self)} rows with {len(self.in_[0])} inputs and {len(self.tg[0])} outputs.'\n",
    "\n",
    "    def read_data(self, path, nips, nops):\n",
    "        self.in_, self.tg = [], []\n",
    "        with open(path) as data_file:\n",
    "            for line in data_file:\n",
    "                row = list(map(float, line.split()))\n",
    "                self.in_.append(row[:nips])\n",
    "                self.tg.append(row[nips:])\n",
    "\n",
    "    def shuffle(self):\n",
    "        indexes = list(range(len(self.in_)))\n",
    "        random.shuffle(indexes)\n",
    "        self.in_ = [self.in_[i] for i in indexes]\n",
    "        self.tg = [self.tg[i] for i in indexes]\n",
    "\n",
    "    def __len__(self):\n",
    "        return len(self.in_)\n",
    "    \n",
    "    def dLen(self):\n",
    "        return len(self.in_)"
   ]
  },
  {
   "cell_type": "code",
   "execution_count": null,
   "metadata": {},
   "outputs": [],
   "source": [
    "class DataOnTheFly:\n",
    "    def __init__(self, arr, nips, nops):\n",
    "        self.read_array(arr, nips, nops)\n",
    "        \n",
    "    def read_array(self, arr, nips, nops):\n",
    "        self.in_, self.tg = [], []\n",
    "        \n",
    "        #row = list(map(float, line.split()))\n",
    "        row = list( Needs to be finished )\n",
    "        self.in_.append(row[:nips])\n",
    "        self.tg.append(row[nips:])\n",
    "        "
   ]
  },
  {
   "cell_type": "code",
   "execution_count": null,
   "metadata": {},
   "outputs": [],
   "source": [
    "def train(_nips, _nhid, _nops, _rate, _anneal, _data, _iter):\n",
    "    nips = _nips\n",
    "    nhid = _nhid\n",
    "    nops = _nops\n",
    "    rate = _rate\n",
    "    anneal = _anneal\n",
    "    \n",
    "    data = Data(_data, nips, nops)\n",
    "    \n",
    "    t = tinn.Tinn(nips, nhid, nops)\n",
    "    \n",
    "    for i in range(_iter):\n",
    "        data.shuffle()\n",
    "        error = 0\n",
    "        for in_, tg in zip(data.in_, data.tg):\n",
    "            error += tinn.xttrain(t, in_, tg, rate)\n",
    "        print 'Error: ' + str(error/len(data)) + ' learning rate: ' + str(rate) + ' Iteration: ' + str(i)\n",
    "        rate *= anneal\n",
    "\n",
    "    t.save('savedApp.tinn')"
   ]
  },
  {
   "cell_type": "code",
   "execution_count": 1,
   "metadata": {},
   "outputs": [],
   "source": [
    "def test(_data, _nips, _nops):\n",
    "    data = Data(_data, _nips, _nops)\n",
    "    \n",
    "    loaded = tinn.xtload('savedApp.tinn')\n",
    "\n",
    "    for i in range(data.dLen() ):\n",
    "        in_ = data.in_[i]\n",
    "        tg = data.tg[i]\n",
    "        \n",
    "        pd = tinn.xtpredict(loaded, in_)\n",
    "        \n",
    "        print(' '.join(map(str, tg)))\n",
    "        print(' '.join(map(str, pd)))"
   ]
  },
  {
   "cell_type": "code",
   "execution_count": null,
   "metadata": {},
   "outputs": [],
   "source": [
    "#https://stackoverflow.com/questions/12435211/python-threading-timer-repeat-function-every-n-seconds\n",
    "#Repeated Timer\n",
    "class MyThread(Thread):\n",
    "    def __init__(self, event):\n",
    "        Thread.__init__(self)\n",
    "        self.stopped = event\n",
    "\n",
    "    def run(self):\n",
    "        while not self.stopped.wait(0.5):\n",
    "            print(\"my thread\")\n",
    "            \n",
    "            #Call a function\n",
    "            fastThread()"
   ]
  },
  {
   "cell_type": "code",
   "execution_count": null,
   "metadata": {},
   "outputs": [],
   "source": [
    "def getAudio():\n",
    "    fs = 1024\n",
    "    duration = 2\n",
    "    \n",
    "    myRecording1 = sd.rec(duration * fs, samplerate=fs, channels=1)\n",
    "    sd.wait()\n",
    "    \n",
    "    #Each sample is of type list. Convert from list to int\n",
    "    bClip = []\n",
    "    for i in range(len(myRecording1)):\n",
    "        bClip.append( myRecording1[i][0] )\n",
    "    \n",
    "    return bClip"
   ]
  },
  {
   "cell_type": "code",
   "execution_count": null,
   "metadata": {},
   "outputs": [],
   "source": [
    "def fastThread():\n",
    "    #Get clip\n",
    "    aClip = getAudio()\n",
    "    \n",
    "    #Push to queue\n",
    "    processQueue.put( aClip )\n",
    "    \n",
    "    #Maybe delay a split second - Done in Thread Class\n",
    "    \n",
    "    #Call thread again"
   ]
  },
  {
   "cell_type": "code",
   "execution_count": null,
   "metadata": {},
   "outputs": [],
   "source": [
    "def getFFT(_aClip):\n",
    "    \n",
    "    fs = 1024\n",
    "    duration = 2\n",
    "    \n",
    "    #Get data\n",
    "    #data = aClips[i]\n",
    "    data = _aClip\n",
    "\n",
    "    #Smooth the FFT by windowing data\n",
    "    data = data * np.hanning(len(data))\n",
    "\n",
    "    #Preform FFT and take only real data\n",
    "    fft = abs(np.fft.fft(data).real)\n",
    "\n",
    "    #Keep only first half\n",
    "    fft = fft[:int(len(fft))/2]\n",
    "\n",
    "    #Create Frequency list\n",
    "    freq = np.fft.fftfreq( (fs * duration) ,1.0/fs)\n",
    "\n",
    "    #Keep only first half\n",
    "    freq = freq[:int(len(freq))/2] \n",
    "\n",
    "    #At this point, the length of the fft/freq is cut in reduced from 2048 to 1024. But the cut off frequency is actually 512.\n",
    "    #The freq axis shows why. Values are now 0, 0.5, 1, 1.5Hz...\n",
    "    #Therefore drop every other value\n",
    "    fft = fft[0::2]\n",
    "    freq = freq[0::2]\n",
    "\n",
    "    #Save for later\n",
    "    #ffts.append( fft )\n",
    "    \n",
    "    return fft"
   ]
  },
  {
   "cell_type": "code",
   "execution_count": null,
   "metadata": {},
   "outputs": [],
   "source": [
    "def predictFFT():\n",
    "    #train(_nips, _nhid 14, _nops, _rate 0.5, _anneal 0.99, _data, _iter 32\n",
    "    train(512, 14, 2, 0.5, 0.99, 'woofsAndMeows.data', 64)\n"
   ]
  },
  {
   "cell_type": "code",
   "execution_count": null,
   "metadata": {},
   "outputs": [],
   "source": [
    "#def formatDataForPrediction\n"
   ]
  },
  {
   "cell_type": "code",
   "execution_count": null,
   "metadata": {},
   "outputs": [],
   "source": [
    "#Create queues\n",
    "processQueue = Queue.Queue()\n",
    "\n",
    "#Create events\n",
    "stopFlag = Event()\n",
    "\n",
    "#Create threads\n",
    "thread = MyThread(stopFlag)\n",
    "thread.start()\n",
    "\n",
    "# this will stop the timer\n",
    "#stopFlag.set()"
   ]
  },
  {
   "cell_type": "code",
   "execution_count": null,
   "metadata": {},
   "outputs": [],
   "source": [
    "#While loop\n",
    "while True:\n",
    "    \n",
    "    #Wait for something in Queue\n",
    "    if not processQueue.empty(): \n",
    "        aClip = processQueue.get()\n",
    "        \n",
    "        print 'Processing clip'\n",
    "\n",
    "        #Get FFT\n",
    "        clipFFT = getFFT( aClip )\n",
    "\n",
    "        #formatDataForPrediction\n",
    "\n",
    "        ##Predict\n",
    "        #var0, var1 = predictFFT( clipFFT )\n",
    "\n",
    "        var0 = 0.0\n",
    "        var1 = 0.0\n",
    "\n",
    "        #Found woof\n",
    "        if var0 > 0.7 and var1 < 0.4:\n",
    "            print 'Found Woof'\n",
    "        #Found meow   \n",
    "        elif var1 > 0.4 and var0 > 0.7:\n",
    "            print 'Meow'\n"
   ]
  }
 ],
 "metadata": {
  "kernelspec": {
   "display_name": "Python 2",
   "language": "python",
   "name": "python2"
  },
  "language_info": {
   "codemirror_mode": {
    "name": "ipython",
    "version": 2
   },
   "file_extension": ".py",
   "mimetype": "text/x-python",
   "name": "python",
   "nbconvert_exporter": "python",
   "pygments_lexer": "ipython2",
   "version": "2.7.14"
  }
 },
 "nbformat": 4,
 "nbformat_minor": 2
}
