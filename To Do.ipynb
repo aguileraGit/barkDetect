{
 "cells": [
  {
   "cell_type": "markdown",
   "metadata": {},
   "source": [
    "## To Do\n",
    "- Still need to build microphone PCB\n",
    "- Capture from Mic to SD Card -> Hopefully use AI to pick out barks.\n",
    "- Port over to uC"
   ]
  },
  {
   "cell_type": "markdown",
   "metadata": {},
   "source": [
    "#### Microphone PCB\n",
    "Build PCB on the same footprint as Teensy 3.6.\n",
    "- Mic: PPM-3738-VM1010-R\n",
    "- Voltage regulator: LTC6655\n",
    "- Amps: LT6004(F not high enough). Try: LT1672, LT1782, LT2178, **LT6000**) (LT6023, LTC6078, LTC6255, LTC1049)"
   ]
  },
  {
   "cell_type": "markdown",
   "metadata": {},
   "source": [
    "#### Issues:\n",
    "- Training Data: The more the merrier. Going from ~12 to ~40 woofs greatly improved preformance. I also tweaked the training process.\n",
    "- False Negatives. When sampling outside of the 'recorded enviroment', I see a lot of false negatives. Need method to record in the background (avoiding barks) and maybe training NN."
   ]
  }
 ],
 "metadata": {
  "kernelspec": {
   "display_name": "Python 2",
   "language": "python",
   "name": "python2"
  },
  "language_info": {
   "codemirror_mode": {
    "name": "ipython",
    "version": 2
   },
   "file_extension": ".py",
   "mimetype": "text/x-python",
   "name": "python",
   "nbconvert_exporter": "python",
   "pygments_lexer": "ipython2",
   "version": "2.7.12"
  }
 },
 "nbformat": 4,
 "nbformat_minor": 2
}
