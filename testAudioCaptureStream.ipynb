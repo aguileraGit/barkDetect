{
 "cells": [
  {
   "cell_type": "code",
   "execution_count": 66,
   "metadata": {},
   "outputs": [],
   "source": [
    "import tinn\n",
    "import random\n",
    "import sounddevice as sd\n",
    "import numpy as np\n",
    "import scipy.io.wavfile as wav\n",
    "import Queue\n",
    "from collections import deque\n",
    "from threading import Timer\n",
    "from threading import Thread\n",
    "from threading import Event\n",
    "import time"
   ]
  },
  {
   "cell_type": "code",
   "execution_count": 67,
   "metadata": {},
   "outputs": [],
   "source": [
    "#https://stackoverflow.com/questions/12435211/python-threading-timer-repeat-function-every-n-seconds\n",
    "#Repeated Timer\n",
    "class MyThread(Thread):\n",
    "    def __init__(self, event):\n",
    "        Thread.__init__(self)\n",
    "        self.stopped = event\n",
    "\n",
    "    def run(self):\n",
    "        while not self.stopped.wait(0.001):\n",
    "            #Call a function\n",
    "            addToAudioBuffer()"
   ]
  },
  {
   "cell_type": "code",
   "execution_count": 68,
   "metadata": {},
   "outputs": [],
   "source": [
    "#Extend/Append -> Add to Right\n",
    "#List(queue) -> Reads from Left (doesn't clear it)\n",
    "\n",
    "def addToAudioBuffer():\n",
    "\n",
    "    #if transferBuff isn't empty\n",
    "    if len(transferBuff) > 1:\n",
    "\n",
    "        #Get transferBuff - Channel 0\n",
    "        aClip = list(transferBuff)[0]\n",
    "\n",
    "        #Clear it\n",
    "        transferBuff.clear()\n",
    "\n",
    "        #Unpack data and push to audioBuffer\n",
    "        for i in range(len(aClip)):\n",
    "            audioBuffer.append(aClip[i][0])\n",
    "\n",
    "\n",
    "def callback(indata, outdata, frames, time, status):\n",
    "    #print 'callback', frames, len(indata), type(indata), indata\n",
    "    if status:\n",
    "        print(status)\n",
    "        \n",
    "    #Add indata to queue\n",
    "    transferBuff.append(indata)\n"
   ]
  },
  {
   "cell_type": "code",
   "execution_count": 69,
   "metadata": {},
   "outputs": [
    {
     "name": "stdout",
     "output_type": "stream",
     "text": [
      "input underflow\n",
      "input underflow\n",
      "input underflow\n",
      "0 1024 <type 'collections.deque'> -0.057858035\n",
      "1 1024 <type 'collections.deque'> -0.057858035\n",
      "2 1024 <type 'collections.deque'> -0.057858035\n",
      "3 1024 <type 'collections.deque'> 0.033507492\n",
      "4 1024 <type 'collections.deque'> 0.033507492\n",
      "5 1024 <type 'collections.deque'> 0.033507492\n",
      "6 1024 <type 'collections.deque'> 0.033507492\n",
      "7 1024 <type 'collections.deque'> 0.033507492\n",
      "8 1024 <type 'collections.deque'> 0.033507492\n",
      "9 1024 <type 'collections.deque'> -0.014184674\n"
     ]
    }
   ],
   "source": [
    "\n",
    "#Audio Buffer \n",
    "audioBuffer = deque( maxlen=1024 )\n",
    "\n",
    "#Buffer used to push data from callback to audioBuffer\n",
    "transferBuff = deque()\n",
    "\n",
    "#Create events\n",
    "stopFlag = Event()\n",
    "\n",
    "#Create threads\n",
    "thread = MyThread(stopFlag)\n",
    "thread.start()\n",
    "\n",
    "#Define Run time in seconds\n",
    "duration = 10\n",
    "\n",
    "with sd.Stream(channels=1, callback=callback, samplerate=1024):\n",
    "    #sd.sleep(int(duration * 1000))\n",
    "    time.sleep(2)\n",
    "    \n",
    "    count = 0\n",
    "    while(count < duration):\n",
    "        \n",
    "        print count, len(audioBuffer), type(audioBuffer), audioBuffer[0]\n",
    "        count = count + 1\n",
    "        time.sleep(0.004)\n",
    "    "
   ]
  }
 ],
 "metadata": {
  "kernelspec": {
   "display_name": "Python 2",
   "language": "python",
   "name": "python2"
  },
  "language_info": {
   "codemirror_mode": {
    "name": "ipython",
    "version": 2
   },
   "file_extension": ".py",
   "mimetype": "text/x-python",
   "name": "python",
   "nbconvert_exporter": "python",
   "pygments_lexer": "ipython2",
   "version": "2.7.12"
  }
 },
 "nbformat": 4,
 "nbformat_minor": 2
}
