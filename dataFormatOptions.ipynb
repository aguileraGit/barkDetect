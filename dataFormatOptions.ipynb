{
 "cells": [
  {
   "cell_type": "code",
   "execution_count": null,
   "metadata": {},
   "outputs": [],
   "source": [
    "import json\n"
   ]
  },
  {
   "cell_type": "code",
   "execution_count": null,
   "metadata": {},
   "outputs": [],
   "source": [
    "#Load json file\n",
    "#Returns list -> called an object \n",
    "def loadJson(_fileName):\n",
    "    pass"
   ]
  },
  {
   "cell_type": "code",
   "execution_count": null,
   "metadata": {},
   "outputs": [],
   "source": [
    "#Pass it an object\n",
    "#Returns object\n",
    "def combineFiles(_obj):\n",
    "    pass"
   ]
  },
  {
   "cell_type": "code",
   "execution_count": null,
   "metadata": {},
   "outputs": [],
   "source": [
    "#Remove list item\n",
    "#Returns object\n",
    "def removeItem(_listNumber):\n",
    "    pass"
   ]
  },
  {
   "cell_type": "code",
   "execution_count": null,
   "metadata": {},
   "outputs": [],
   "source": [
    "#Pass it an object\n",
    "#Must combine inputs and output\n",
    "#Format on can be any json key (fft, time series, etc)\n",
    "#Saves to file\n",
    "def formatForTraining(_obj, _fileName, _formatOn):\n",
    "    pass"
   ]
  },
  {
   "cell_type": "code",
   "execution_count": null,
   "metadata": {},
   "outputs": [],
   "source": [
    "#Pass it an object a list describing the data\n",
    "# Example [3, 4] -> First 3 are one type (woof) and last 4 are a different type (meow)\n",
    "#Retunrs plot figure\n",
    "def plotObj(_obj, _listDiffTypes, _formatOn):\n",
    "    pass"
   ]
  },
  {
   "cell_type": "code",
   "execution_count": null,
   "metadata": {},
   "outputs": [],
   "source": [
    "#Define \n",
    "fileName = 'dataWoofs.json'\n",
    "\n",
    "#Load woofs\n",
    "woofs = json.load(fileName)\n",
    "\n",
    "#Load meows\n",
    "fileName = 'dataWoofs.json'\n",
    "meows = json.load(fileName)\n",
    "\n",
    "#Combine files\n",
    "woofsAndMeows = combineFiles([woofs, meows])\n",
    "\n",
    "#Plot data\n",
    "plot = fig()\n",
    "plotObj(woofsAndMeows, [len(woofs), len(meows)], 'f.fData')\n",
    "\n",
    "#Export \n",
    "formatForTraining(woofsAndMeows, 'woofsAndMeows.data', 'f.fData')"
   ]
  }
 ],
 "metadata": {
  "kernelspec": {
   "display_name": "Python 2",
   "language": "python",
   "name": "python2"
  },
  "language_info": {
   "codemirror_mode": {
    "name": "ipython",
    "version": 2
   },
   "file_extension": ".py",
   "mimetype": "text/x-python",
   "name": "python",
   "nbconvert_exporter": "python",
   "pygments_lexer": "ipython2",
   "version": "2.7.14"
  }
 },
 "nbformat": 4,
 "nbformat_minor": 2
}
