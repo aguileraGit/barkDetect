{
 "cells": [
  {
   "cell_type": "code",
   "execution_count": 2,
   "metadata": {},
   "outputs": [],
   "source": [
    "import random\n",
    "import tinn\n",
    "\n",
    "#https://news.ycombinator.com/item?id=16790605"
   ]
  },
  {
   "cell_type": "code",
   "execution_count": 3,
   "metadata": {},
   "outputs": [],
   "source": [
    "class Data:\n",
    "    def __init__(self, path, nips, nops):\n",
    "        self.read_data(path, nips, nops)\n",
    "\n",
    "    def __repr__(self):\n",
    "        return str( str(self) +'rows with'+ str(len(self.in_[0])) +'inputs and'+ str(len(self.tg[0])) +'outputs' )\n",
    "        #return f'{len(self)} rows with {len(self.in_[0])} inputs and {len(self.tg[0])} outputs.'\n",
    "\n",
    "    def read_data(self, path, nips, nops):\n",
    "        self.in_, self.tg = [], []\n",
    "        with open(path) as data_file:\n",
    "            for line in data_file:\n",
    "                row = list(map(float, line.split()))\n",
    "                self.in_.append(row[:nips])\n",
    "                self.tg.append(row[nips:])\n",
    "\n",
    "    def shuffle(self):\n",
    "        indexes = list(range(len(self.in_)))\n",
    "        random.shuffle(indexes)\n",
    "        self.in_ = [self.in_[i] for i in indexes]\n",
    "        self.tg = [self.tg[i] for i in indexes]\n",
    "\n",
    "    def __len__(self):\n",
    "        return len(self.in_)\n",
    "    \n",
    "    def dLen(self):\n",
    "        return len(self.in_)"
   ]
  },
  {
   "cell_type": "code",
   "execution_count": 4,
   "metadata": {},
   "outputs": [],
   "source": [
    "def train(_nips, _nhid, _nops, _rate, _anneal, _data, _iter):\n",
    "    nips = _nips\n",
    "    nhid = _nhid\n",
    "    nops = _nops\n",
    "    rate = _rate\n",
    "    anneal = _anneal\n",
    "    \n",
    "    data = Data(_data, nips, nops)\n",
    "    \n",
    "    t = tinn.Tinn(nips, nhid, nops)\n",
    "    \n",
    "    for i in range(_iter):\n",
    "        data.shuffle()\n",
    "        error = 0\n",
    "        for in_, tg in zip(data.in_, data.tg):\n",
    "            error += tinn.xttrain(t, in_, tg, rate)\n",
    "        print 'Error: ' + str(error/len(data)) + ' learning rate: ' + str(rate) + ' Iteration: ' + str(i)\n",
    "        rate *= anneal\n",
    "\n",
    "    t.save('saved.tinn')"
   ]
  },
  {
   "cell_type": "code",
   "execution_count": 5,
   "metadata": {},
   "outputs": [],
   "source": [
    "def test(_data, _nips, _nops):\n",
    "    data = Data(_data, _nips, _nops)\n",
    "    \n",
    "    loaded = tinn.xtload('saved.tinn')\n",
    "\n",
    "    for i in range(data.dLen() ):\n",
    "        in_ = data.in_[i]\n",
    "        tg = data.tg[i]\n",
    "        \n",
    "        pd = tinn.xtpredict(loaded, in_)\n",
    "        \n",
    "        print(' '.join(map(str, tg)))\n",
    "        print(' '.join(map(str, pd)))"
   ]
  },
  {
   "cell_type": "code",
   "execution_count": 18,
   "metadata": {},
   "outputs": [
    {
     "name": "stdout",
     "output_type": "stream",
     "text": [
      "Error: 0.136646618167 learning rate: 0.1 Iteration: 0\n",
      "Error: 0.100720402218 learning rate: 0.099 Iteration: 1\n",
      "Error: 0.0931220144357 learning rate: 0.09801 Iteration: 2\n",
      "Error: 0.0850894213279 learning rate: 0.0970299 Iteration: 3\n",
      "Error: 0.0735447547556 learning rate: 0.096059601 Iteration: 4\n",
      "Error: 0.0636101366689 learning rate: 0.09509900499 Iteration: 5\n",
      "Error: 0.0532302572263 learning rate: 0.0941480149401 Iteration: 6\n",
      "Error: 0.0450455057982 learning rate: 0.0932065347907 Iteration: 7\n",
      "Error: 0.0377923366981 learning rate: 0.0922744694428 Iteration: 8\n",
      "Error: 0.0315347780509 learning rate: 0.0913517247484 Iteration: 9\n",
      "Error: 0.0257134660281 learning rate: 0.0904382075009 Iteration: 10\n",
      "Error: 0.0238040260375 learning rate: 0.0895338254259 Iteration: 11\n",
      "Error: 0.0199827090957 learning rate: 0.0886384871716 Iteration: 12\n",
      "Error: 0.0179929946861 learning rate: 0.0877521022999 Iteration: 13\n",
      "Error: 0.0157182955283 learning rate: 0.0868745812769 Iteration: 14\n",
      "Error: 0.0143306643777 learning rate: 0.0860058354641 Iteration: 15\n",
      "Error: 0.0127583883578 learning rate: 0.0851457771095 Iteration: 16\n",
      "Error: 0.0114921149117 learning rate: 0.0842943193384 Iteration: 17\n",
      "Error: 0.01037241583 learning rate: 0.083451376145 Iteration: 18\n",
      "Error: 0.00950495625234 learning rate: 0.0826168623836 Iteration: 19\n",
      "Error: 0.00880484230214 learning rate: 0.0817906937597 Iteration: 20\n",
      "Error: 0.0081170174579 learning rate: 0.0809727868221 Iteration: 21\n",
      "Error: 0.00747723729803 learning rate: 0.0801630589539 Iteration: 22\n",
      "Error: 0.00702981237469 learning rate: 0.0793614283644 Iteration: 23\n",
      "Error: 0.00653662905613 learning rate: 0.0785678140807 Iteration: 24\n",
      "Error: 0.00615930479127 learning rate: 0.0777821359399 Iteration: 25\n",
      "Error: 0.0058241041339 learning rate: 0.0770043145805 Iteration: 26\n",
      "Error: 0.00550463490871 learning rate: 0.0762342714347 Iteration: 27\n",
      "Error: 0.00519724289044 learning rate: 0.0754719287204 Iteration: 28\n",
      "Error: 0.00493983385513 learning rate: 0.0747172094332 Iteration: 29\n",
      "Error: 0.00470081762021 learning rate: 0.0739700373388 Iteration: 30\n",
      "Error: 0.00448986352605 learning rate: 0.0732303369654 Iteration: 31\n"
     ]
    }
   ],
   "source": [
    "#train(_nips, _nhid 14, _nops, _rate 0.5, _anneal 0.99, _data, _iter 32\n",
    "train(512, 48, 2, 0.1, 0.99, 'mostlyWoofs.data', 32)"
   ]
  },
  {
   "cell_type": "code",
   "execution_count": 19,
   "metadata": {},
   "outputs": [
    {
     "name": "stdout",
     "output_type": "stream",
     "text": [
      "Training Data: Woof and Meow: \n",
      "\n",
      "0.946699669058 0.0569280798137\n",
      "\n",
      "0.927241654584 0.0769326898149\n",
      "\n",
      "0.944942258804 0.0578467744586\n",
      "\n",
      "0.976688103046 0.0245910358656\n",
      "\n",
      "0.909850050853 0.0940953137043\n",
      "\n",
      "0.957673658381 0.0439681078562\n",
      "\n",
      "0.0798384145017 0.914604280521\n",
      "\n",
      "0.0801025369276 0.913233297553\n",
      "\n",
      "0.181494268945 0.812437029533\n",
      "\n",
      "0.19385790267 0.799046329484\n",
      "\n",
      "0.0710877761075 0.924782836279\n",
      "\n",
      "0.160833260146 0.833016868242\n",
      "\n",
      "Test Data: Woof: \n",
      "\n",
      "0.982701677571 0.0183924605788\n",
      "\n",
      "0.951188409827 0.0498718465518\n",
      "\n",
      "0.989294925734 0.0113599034593\n",
      "\n",
      "0.959545926725 0.0426899638959\n",
      "\n",
      "0.98790134982 0.012434694824\n",
      "\n",
      "0.958382724256 0.0429320425302\n",
      "\n",
      "Test Data: Meow: \n",
      "\n",
      "0.339635264733 0.656052916321\n",
      "\n",
      "0.409597424841 0.592243864906\n",
      "\n",
      "0.608068899576 0.397515347018\n",
      "\n",
      "0.753282966309 0.254235816154\n",
      "\n",
      "0.759165933797 0.251296378031\n",
      "\n",
      "0.66568990161 0.338881316333\n"
     ]
    }
   ],
   "source": [
    "print 'Training Data: Woof and Meow: '\n",
    "test('woofsAndMeows.data', 2048, 2)\n",
    "\n",
    "print '\\nTest Data: Woof: '\n",
    "test('woof1.data', 2048, 2)\n",
    "\n",
    "print '\\nTest Data: Meow: '\n",
    "test('meow1.data', 2048, 2)"
   ]
  }
 ],
 "metadata": {
  "kernelspec": {
   "display_name": "Python 2",
   "language": "python",
   "name": "python2"
  },
  "language_info": {
   "codemirror_mode": {
    "name": "ipython",
    "version": 2
   },
   "file_extension": ".py",
   "mimetype": "text/x-python",
   "name": "python",
   "nbconvert_exporter": "python",
   "pygments_lexer": "ipython2",
   "version": "2.7.14"
  }
 },
 "nbformat": 4,
 "nbformat_minor": 2
}
