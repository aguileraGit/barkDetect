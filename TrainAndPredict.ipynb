{
 "cells": [
  {
   "cell_type": "code",
   "execution_count": 1,
   "metadata": {},
   "outputs": [],
   "source": [
    "import random\n",
    "import tinn\n",
    "\n",
    "#https://news.ycombinator.com/item?id=16790605"
   ]
  },
  {
   "cell_type": "code",
   "execution_count": 2,
   "metadata": {},
   "outputs": [],
   "source": [
    "class Data:\n",
    "    def __init__(self, path, nips, nops):\n",
    "        self.read_data(path, nips, nops)\n",
    "\n",
    "    def __repr__(self):\n",
    "        return str( str(self) +'rows with'+ str(len(self.in_[0])) +'inputs and'+ str(len(self.tg[0])) +'outputs' )\n",
    "        #return f'{len(self)} rows with {len(self.in_[0])} inputs and {len(self.tg[0])} outputs.'\n",
    "\n",
    "    def read_data(self, path, nips, nops):\n",
    "        self.in_, self.tg = [], []\n",
    "        with open(path) as data_file:\n",
    "            for line in data_file:\n",
    "                row = list(map(float, line.split()))\n",
    "                self.in_.append(row[:nips])\n",
    "                self.tg.append(row[nips:])\n",
    "\n",
    "    def shuffle(self):\n",
    "        indexes = list(range(len(self.in_)))\n",
    "        random.shuffle(indexes)\n",
    "        self.in_ = [self.in_[i] for i in indexes]\n",
    "        self.tg = [self.tg[i] for i in indexes]\n",
    "\n",
    "    def __len__(self):\n",
    "        return len(self.in_)\n",
    "    \n",
    "    def dLen(self):\n",
    "        return len(self.in_)"
   ]
  },
  {
   "cell_type": "code",
   "execution_count": 3,
   "metadata": {},
   "outputs": [],
   "source": [
    "def train(_nips, _nhid, _nops, _rate, _anneal, _data, _iter):\n",
    "    nips = _nips\n",
    "    nhid = _nhid\n",
    "    nops = _nops\n",
    "    rate = _rate\n",
    "    anneal = _anneal\n",
    "    \n",
    "    data = Data(_data, nips, nops)\n",
    "    \n",
    "    t = tinn.Tinn(nips, nhid, nops)\n",
    "    \n",
    "    for i in range(_iter):\n",
    "        data.shuffle()\n",
    "        error = 0\n",
    "        for in_, tg in zip(data.in_, data.tg):\n",
    "            error += tinn.xttrain(t, in_, tg, rate)\n",
    "        print 'Error: ' + str(error/len(data)) + ' learning rate: ' + str(rate) + ' Iteration: ' + str(i)\n",
    "        rate *= anneal\n",
    "\n",
    "    t.save('saved.tinn')"
   ]
  },
  {
   "cell_type": "code",
   "execution_count": 4,
   "metadata": {},
   "outputs": [],
   "source": [
    "def test(_data, _nips, _nops):\n",
    "    data = Data(_data, _nips, _nops)\n",
    "    \n",
    "    loaded = tinn.xtload('saved.tinn')\n",
    "\n",
    "    for i in range(data.dLen() ):\n",
    "        in_ = data.in_[i]\n",
    "        tg = data.tg[i]\n",
    "        \n",
    "        pd = tinn.xtpredict(loaded, in_)\n",
    "        \n",
    "        print(' '.join(map(str, tg)))\n",
    "        print(' '.join(map(str, pd)))"
   ]
  },
  {
   "cell_type": "code",
   "execution_count": 10,
   "metadata": {},
   "outputs": [
    {
     "name": "stdout",
     "output_type": "stream",
     "text": [
      "Error: 0.277375603861 learning rate: 0.5 Iteration: 0\n",
      "Error: 0.197646239435 learning rate: 0.495 Iteration: 1\n",
      "Error: 0.138399731614 learning rate: 0.49005 Iteration: 2\n",
      "Error: 0.0936178823279 learning rate: 0.4851495 Iteration: 3\n",
      "Error: 0.0634715250057 learning rate: 0.480298005 Iteration: 4\n",
      "Error: 0.0443460126178 learning rate: 0.47549502495 Iteration: 5\n",
      "Error: 0.0337430148993 learning rate: 0.4707400747 Iteration: 6\n",
      "Error: 0.0258980461276 learning rate: 0.466032673953 Iteration: 7\n",
      "Error: 0.020711401768 learning rate: 0.461372347214 Iteration: 8\n",
      "Error: 0.0170340520129 learning rate: 0.456758623742 Iteration: 9\n",
      "Error: 0.0144132452859 learning rate: 0.452191037504 Iteration: 10\n",
      "Error: 0.0123997194155 learning rate: 0.447669127129 Iteration: 11\n",
      "Error: 0.0108123391209 learning rate: 0.443192435858 Iteration: 12\n",
      "Error: 0.0095851127296 learning rate: 0.438760511499 Iteration: 13\n",
      "Error: 0.00858194871691 learning rate: 0.434372906384 Iteration: 14\n",
      "Error: 0.00775977673658 learning rate: 0.430029177321 Iteration: 15\n",
      "Error: 0.00706966537975 learning rate: 0.425728885547 Iteration: 16\n",
      "Error: 0.00648052167331 learning rate: 0.421471596692 Iteration: 17\n",
      "Error: 0.00598987508068 learning rate: 0.417256880725 Iteration: 18\n",
      "Error: 0.00555324511507 learning rate: 0.413084311918 Iteration: 19\n",
      "Error: 0.00518614281911 learning rate: 0.408953468799 Iteration: 20\n",
      "Error: 0.00486381672083 learning rate: 0.404863934111 Iteration: 21\n",
      "Error: 0.00457376638577 learning rate: 0.40081529477 Iteration: 22\n",
      "Error: 0.00431603022387 learning rate: 0.396807141822 Iteration: 23\n",
      "Error: 0.00408717642085 learning rate: 0.392839070404 Iteration: 24\n",
      "Error: 0.0038805324831 learning rate: 0.3889106797 Iteration: 25\n",
      "Error: 0.00369347278697 learning rate: 0.385021572903 Iteration: 26\n",
      "Error: 0.00352412774286 learning rate: 0.381171357174 Iteration: 27\n",
      "Error: 0.0033695916322 learning rate: 0.377359643602 Iteration: 28\n",
      "Error: 0.00322966524396 learning rate: 0.373586047166 Iteration: 29\n",
      "Error: 0.00310065398877 learning rate: 0.369850186694 Iteration: 30\n",
      "Error: 0.00298112706526 learning rate: 0.366151684827 Iteration: 31\n"
     ]
    }
   ],
   "source": [
    "#train(_nips, _nhid 28, _nops, _rate, _anneal, _data, _iter\n",
    "train(512, 14, 2, 0.5, 0.99, 'woofsAndMeows.data', 32)"
   ]
  },
  {
   "cell_type": "code",
   "execution_count": 11,
   "metadata": {},
   "outputs": [
    {
     "name": "stdout",
     "output_type": "stream",
     "text": [
      "Training Data: Woof and Meow: \n",
      "1.0 0.0\n",
      "0.960337754516 0.037208232089\n",
      "1.0 0.0\n",
      "0.932756118229 0.0693625544393\n",
      "1.0 0.0\n",
      "0.951756042487 0.0458396649577\n",
      "1.0 0.0\n",
      "0.976094406857 0.0208034514228\n",
      "1.0 0.0\n",
      "0.923658079976 0.080591837579\n",
      "1.0 0.0\n",
      "0.960347513781 0.0369442490833\n",
      "0.0 1.0\n",
      "0.0347049901086 0.966773458156\n",
      "0.0 1.0\n",
      "0.0462810779574 0.954486396982\n",
      "0.0 1.0\n",
      "0.0723530410116 0.929984782592\n",
      "0.0 1.0\n",
      "0.0676986018872 0.934243669669\n",
      "0.0 1.0\n",
      "0.0417090327403 0.960625225262\n",
      "0.0 1.0\n",
      "0.0619529324627 0.939622792096\n",
      "\n",
      "Test Data: Woof: \n",
      "1.0 0.0\n",
      "0.959367690742 0.035522561988\n",
      "1.0 0.0\n",
      "0.841743813582 0.145924182616\n",
      "1.0 0.0\n",
      "0.973835732202 0.0219122204773\n",
      "1.0 0.0\n",
      "0.938844413646 0.0578156782951\n",
      "1.0 0.0\n",
      "0.966647170862 0.0264494075239\n",
      "1.0 0.0\n",
      "0.895742469352 0.105570929618\n",
      "\n",
      "Test Data: Meow: \n",
      "0.0 1.0\n",
      "0.114670335764 0.884897158325\n",
      "0.0 1.0\n",
      "0.208162549004 0.797853775423\n",
      "0.0 1.0\n",
      "0.354424249405 0.653873262449\n",
      "0.0 1.0\n",
      "0.560725789661 0.448514630562\n",
      "0.0 1.0\n",
      "0.627700871398 0.392695764703\n",
      "0.0 1.0\n",
      "0.540111110576 0.467875609711\n"
     ]
    }
   ],
   "source": [
    "print 'Training Data: Woof and Meow: '\n",
    "test('woofsAndMeows.data', 512, 2)\n",
    "\n",
    "print '\\nTest Data: Woof: '\n",
    "test('woof1.data', 512, 2)\n",
    "\n",
    "print '\\nTest Data: Meow: '\n",
    "test('meow1.data', 512, 2)"
   ]
  }
 ],
 "metadata": {
  "kernelspec": {
   "display_name": "Python 2",
   "language": "python",
   "name": "python2"
  },
  "language_info": {
   "codemirror_mode": {
    "name": "ipython",
    "version": 2
   },
   "file_extension": ".py",
   "mimetype": "text/x-python",
   "name": "python",
   "nbconvert_exporter": "python",
   "pygments_lexer": "ipython2",
   "version": "2.7.14"
  }
 },
 "nbformat": 4,
 "nbformat_minor": 2
}
